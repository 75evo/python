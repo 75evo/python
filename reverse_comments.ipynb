{
 "cells": [
  {
   "cell_type": "code",
   "execution_count": 49,
   "metadata": {},
   "outputs": [
    {
     "name": "stdout",
     "output_type": "stream",
     "text": [
      "Found blank, index = 1\n",
      "Found blank, index = 3\n",
      "Found blank, index = 5\n",
      "Found blank, index = 7\n",
      "perematar\n",
      "Found blank, index = 9\n",
      "Found blank, index = 11\n",
      "hkkkkjjjji;all\n",
      "Found blank, index = 0\n",
      "Found blank, index = 1\n",
      "Found blank, index = 2\n",
      "Found blank, index = 3\n",
      "Found blank, index = 4\n",
      "Found blank, index = 5\n",
      "Found blank, index = 6\n",
      "Found blank, index = 7\n",
      "Found blank, index = 8\n",
      "Found blank, index = 9\n",
      "uuueeeaaaa\n"
     ]
    }
   ],
   "source": [
    "def reverse_vowels(word):\n",
    "    \n",
    "    vowels_list=[]\n",
    "    consonant_list=[]\n",
    "    vowels=[\"a\",\"e\",\"i\",\"o\",\"u\"]\n",
    "    index=[]\n",
    "    temp_word=[]\n",
    "    index=0\n",
    "    \n",
    "    if len(word)==0:\n",
    "        return False\n",
    "    \n",
    "    for i in word:\n",
    "        #print (i)\n",
    "        if i in vowels:\n",
    "            #print ( i + \" is a vowel\")\n",
    "            vowels_list.append(i)\n",
    "            temp_word.append(\"\")\n",
    "        else:\n",
    "            consonant_list.append(i)\n",
    "            temp_word.append(i)\n",
    "\n",
    "    vowels_list.reverse()\n",
    "    \n",
    "    for j in temp_word:\n",
    "        #print(index)\n",
    "        #print(temp_word)\n",
    "        if j=='':           \n",
    "            print (\"Found blank, index = \" + str(index) )\n",
    "            temp_word.insert(index,vowels_list[0])\n",
    "            temp_word.pop(index+1)\n",
    "            vowels_list.pop(0)\n",
    "            #for k in vowels_list:\n",
    "        index+=1 \n",
    "        #print (str(index) )\n",
    "                \n",
    "    #print(vowels_list)\n",
    "    #vowels_list.reverse()\n",
    "    #print(vowels_list)\n",
    "    #print(consonant_list)\n",
    "    #print(temp_word)\n",
    "    new_word=\"\".join(temp_word)\n",
    "    return new_word\n",
    "\n",
    "print(reverse_vowels(\"parameter\"))\n",
    "print(reverse_vowels(\"hkkkkjjjja;ill\"))\n",
    "print(reverse_vowels(\"aaaaeeeuuu\"))\n",
    "    \n",
    "    "
   ]
  },
  {
   "cell_type": "code",
   "execution_count": null,
   "metadata": {},
   "outputs": [],
   "source": []
  },
  {
   "cell_type": "code",
   "execution_count": null,
   "metadata": {},
   "outputs": [],
   "source": []
  }
 ],
 "metadata": {
  "kernelspec": {
   "display_name": "Python 3",
   "language": "python",
   "name": "python3"
  },
  "language_info": {
   "codemirror_mode": {
    "name": "ipython",
    "version": 3
   },
   "file_extension": ".py",
   "mimetype": "text/x-python",
   "name": "python",
   "nbconvert_exporter": "python",
   "pygments_lexer": "ipython3",
   "version": "3.7.3"
  }
 },
 "nbformat": 4,
 "nbformat_minor": 2
}
