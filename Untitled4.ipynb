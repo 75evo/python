{
 "cells": [
  {
   "cell_type": "code",
   "execution_count": 16,
   "metadata": {},
   "outputs": [
    {
     "name": "stdout",
     "output_type": "stream",
     "text": [
      "Ali\n",
      "37\n",
      "100000\n",
      "Ali has performed good\n"
     ]
    },
    {
     "ename": "TypeError",
     "evalue": "group_status() takes 1 positional argument but 2 were given",
     "output_type": "error",
     "traceback": [
      "\u001b[0;31m---------------------------------------------------------------------------\u001b[0m",
      "\u001b[0;31mTypeError\u001b[0m                                 Traceback (most recent call last)",
      "\u001b[0;32m<ipython-input-16-8add0173194f>\u001b[0m in \u001b[0;36m<module>\u001b[0;34m\u001b[0m\n\u001b[1;32m     35\u001b[0m \u001b[0;34m\u001b[0m\u001b[0m\n\u001b[1;32m     36\u001b[0m \u001b[0;31m#class method\u001b[0m\u001b[0;34m\u001b[0m\u001b[0;34m\u001b[0m\u001b[0;34m\u001b[0m\u001b[0m\n\u001b[0;32m---> 37\u001b[0;31m \u001b[0mprint\u001b[0m\u001b[0;34m(\u001b[0m\u001b[0memp1\u001b[0m\u001b[0;34m.\u001b[0m\u001b[0mgroup_status\u001b[0m\u001b[0;34m(\u001b[0m\u001b[0;34m'inactive'\u001b[0m\u001b[0;34m)\u001b[0m\u001b[0;34m)\u001b[0m\u001b[0;34m\u001b[0m\u001b[0;34m\u001b[0m\u001b[0m\n\u001b[0m\u001b[1;32m     38\u001b[0m \u001b[0;34m\u001b[0m\u001b[0m\n\u001b[1;32m     39\u001b[0m \u001b[0;31m#static method\u001b[0m\u001b[0;34m\u001b[0m\u001b[0;34m\u001b[0m\u001b[0;34m\u001b[0m\u001b[0m\n",
      "\u001b[0;31mTypeError\u001b[0m: group_status() takes 1 positional argument but 2 were given"
     ]
    }
   ],
   "source": [
    "class employer:\n",
    "    \n",
    "    #class attribute\n",
    "    bonus=3000\n",
    "    status=\"active\"\n",
    "    \n",
    "    #instance init constructor\n",
    "    def __init__ (self,name,age,salary,rating):\n",
    "        self.name=name\n",
    "        self.age=age\n",
    "        self.salary=salary\n",
    "        self.rating=rating\n",
    "        \n",
    "    #instance method\n",
    "    def performance (self,rating):\n",
    "        return f'{self.name} has performed {rating}'\n",
    "    \n",
    "    @classmethod\n",
    "    def group_status(cls):\n",
    "        return f'group status is {cls.status}'\n",
    "    \n",
    "    @staticmethod\n",
    "    def indv_raise(increment):\n",
    "        return f'{self.name} received {increment}'\n",
    "    \n",
    "    \n",
    "emp1=employer('Ali','37','100000','bad')\n",
    "\n",
    "print(emp1.name)\n",
    "print(emp1.age)\n",
    "print(emp1.salary)\n",
    "\n",
    "#instance method\n",
    "print(emp1.performance('good'))\n",
    "\n",
    "#class method\n",
    "print(emp1.group_status('inactive'))\n",
    "\n",
    "#static method\n",
    "print(emp1.indv_raise(999))\n",
    "\n"
   ]
  },
  {
   "cell_type": "code",
   "execution_count": null,
   "metadata": {},
   "outputs": [],
   "source": []
  },
  {
   "cell_type": "code",
   "execution_count": null,
   "metadata": {},
   "outputs": [],
   "source": []
  }
 ],
 "metadata": {
  "kernelspec": {
   "display_name": "Python 3",
   "language": "python",
   "name": "python3"
  },
  "language_info": {
   "codemirror_mode": {
    "name": "ipython",
    "version": 3
   },
   "file_extension": ".py",
   "mimetype": "text/x-python",
   "name": "python",
   "nbconvert_exporter": "python",
   "pygments_lexer": "ipython3",
   "version": "3.7.3"
  }
 },
 "nbformat": 4,
 "nbformat_minor": 2
}
