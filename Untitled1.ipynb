{
 "cells": [
  {
   "cell_type": "code",
   "execution_count": null,
   "metadata": {},
   "outputs": [],
   "source": []
  },
  {
   "cell_type": "code",
   "execution_count": 12,
   "metadata": {},
   "outputs": [
    {
     "name": "stdout",
     "output_type": "stream",
     "text": [
      "earth\n",
      "small\n",
      "blue\n",
      "The spin of the planet is 1 rev per day\n",
      "orbit size is 999\n"
     ]
    }
   ],
   "source": [
    "class Planet:\n",
    "\n",
    "    orbit = 999\n",
    "    #class attribute\n",
    "    \n",
    "    #instance init\n",
    "    def __init__ (self,name,size,color):\n",
    "        self.name=name\n",
    "        self.size=size\n",
    "        self.color=color\n",
    "   \n",
    "    #instance method\n",
    "    def spin (self,spin):\n",
    "        return f'The spin of the planet is 1 rev per day'\n",
    "    \n",
    "    #class method\n",
    "    @classmethod\n",
    "    def orbit_method(cls):\n",
    "        return f'orbit size is {cls.orbit}'\n",
    "    \n",
    " \n",
    "\n",
    "earth=Planet(\"earth\",\"small\",\"blue\")\n",
    "print(earth.name)\n",
    "print(earth.size)\n",
    "print(earth.color)\n",
    "print(earth.spin(1000))\n",
    "print (earth.orbit_method())"
   ]
  },
  {
   "cell_type": "code",
   "execution_count": null,
   "metadata": {},
   "outputs": [],
   "source": []
  }
 ],
 "metadata": {
  "kernelspec": {
   "display_name": "Python 3",
   "language": "python",
   "name": "python3"
  },
  "language_info": {
   "codemirror_mode": {
    "name": "ipython",
    "version": 3
   },
   "file_extension": ".py",
   "mimetype": "text/x-python",
   "name": "python",
   "nbconvert_exporter": "python",
   "pygments_lexer": "ipython3",
   "version": "3.7.3"
  }
 },
 "nbformat": 4,
 "nbformat_minor": 2
}
