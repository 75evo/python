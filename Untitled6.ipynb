{
 "cells": [
  {
   "cell_type": "code",
   "execution_count": 7,
   "metadata": {},
   "outputs": [
    {
     "name": "stdout",
     "output_type": "stream",
     "text": [
      "Philo is 5 and Mikey is 6.\n",
      "Philo id s mammal\n",
      "Mikey is older than Philo\n"
     ]
    }
   ],
   "source": [
    "class Dog:\n",
    "    \n",
    "    species = 'mammal'\n",
    "    \n",
    "    \n",
    "    def __init__ (self,name,age):\n",
    "        self.name=name\n",
    "        self.age=age\n",
    "        \n",
    "\n",
    "philo = Dog(\"Philo\",5)\n",
    "mikey = Dog(\"Mikey\",6)\n",
    "\n",
    "print(\"{} is {} and {} is {}.\".format(philo.name, philo.age, mikey.name, mikey.age))\n",
    "\n",
    "if philo.species==\"mammal\":\n",
    "    print(\"{0} id s {1}\".format(philo.name,philo.species))\n",
    "    \n",
    "if philo.age > mikey.age:\n",
    "    print(\"{} is older than {}\".format(philo.name,mikey.name))\n",
    "else:\n",
    "     print(\"{} is older than {}\".format(mikey.name,philo.name))        "
   ]
  },
  {
   "cell_type": "code",
   "execution_count": null,
   "metadata": {},
   "outputs": [],
   "source": []
  },
  {
   "cell_type": "code",
   "execution_count": null,
   "metadata": {},
   "outputs": [],
   "source": []
  }
 ],
 "metadata": {
  "kernelspec": {
   "display_name": "Python 3",
   "language": "python",
   "name": "python3"
  },
  "language_info": {
   "codemirror_mode": {
    "name": "ipython",
    "version": 3
   },
   "file_extension": ".py",
   "mimetype": "text/x-python",
   "name": "python",
   "nbconvert_exporter": "python",
   "pygments_lexer": "ipython3",
   "version": "3.7.3"
  }
 },
 "nbformat": 4,
 "nbformat_minor": 4
}
