{
 "cells": [
  {
   "cell_type": "code",
   "execution_count": 18,
   "metadata": {},
   "outputs": [
    {
     "name": "stdout",
     "output_type": "stream",
     "text": [
      "['Manuel', 'Max', 'James', 'Harry', 'Bobo']\n",
      "('Manuel', 'Max', 'James', 'Harry')\n",
      "['Manuel', 'Max']\n",
      "Manuel\n",
      "1\n",
      "0\n",
      "male\n",
      "Manuel male 31 ['German', 'Engineer']\n",
      "Enter your Email: lolo@eail.com\n",
      "Enter your Password: 123456\n",
      "('lolo@eail.com', '123456')\n"
     ]
    }
   ],
   "source": [
    "user_names_list=['Manuel','Max','James','Harry']\n",
    "user_names_tuple=('Manuel','Max','James','Harry')\n",
    "user_names_list.append('Bobo')\n",
    "\n",
    "print(user_names_list)\n",
    "print(user_names_tuple)\n",
    "\n",
    "print(user_names_list[0:2])\n",
    "print(user_names_tuple[0])\n",
    "\n",
    "print(user_names_tuple.count('Manuel'))\n",
    "print(user_names_tuple.index('Manuel'))\n",
    "\n",
    "user_data=('Manuel',31,'male','German','Engineer')\n",
    "print (user_data[2])\n",
    "name,age,gender, *other=user_data\n",
    "print(name,gender,age, other)\n",
    "\n",
    "def get_user_data():\n",
    "    user_email=input('Enter your Email: ')\n",
    "    user_password = input('Enter your Password: ')\n",
    "    \n",
    "    return (user_email, user_password)\n",
    "\n",
    "signup_data=get_user_data()\n",
    "print(signup_data)\n"
   ]
  },
  {
   "cell_type": "code",
   "execution_count": null,
   "metadata": {},
   "outputs": [],
   "source": []
  }
 ],
 "metadata": {
  "kernelspec": {
   "display_name": "Python 3",
   "language": "python",
   "name": "python3"
  },
  "language_info": {
   "codemirror_mode": {
    "name": "ipython",
    "version": 3
   },
   "file_extension": ".py",
   "mimetype": "text/x-python",
   "name": "python",
   "nbconvert_exporter": "python",
   "pygments_lexer": "ipython3",
   "version": "3.7.3"
  }
 },
 "nbformat": 4,
 "nbformat_minor": 2
}
