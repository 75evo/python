{
 "cells": [
  {
   "cell_type": "code",
   "execution_count": 19,
   "metadata": {},
   "outputs": [
    {
     "name": "stdout",
     "output_type": "stream",
     "text": [
      "Ali\n",
      "37\n",
      "100000\n",
      "Ali has performed good\n",
      "group status is active\n",
      " received 999\n"
     ]
    }
   ],
   "source": [
    "class employer:\n",
    "    \n",
    "    #class attribute\n",
    "    bonus=3000\n",
    "    status=\"active\"\n",
    "    \n",
    "    #instance init constructor\n",
    "    def __init__ (self,name,age,salary,rating):\n",
    "        self.name=name\n",
    "        self.age=age\n",
    "        self.salary=salary\n",
    "        self.rating=rating\n",
    "        \n",
    "    #instance method\n",
    "    def performance (self,rating):\n",
    "        return f'{self.name} has performed {rating}'\n",
    "    \n",
    "    @classmethod\n",
    "    def group_status(cls):\n",
    "        return f'group status is {cls.status}'\n",
    "    \n",
    "    @staticmethod\n",
    "    def indv_raise(increment):\n",
    "        return f' received {increment}'\n",
    "    \n",
    "    \n",
    "emp1=employer('Ali','37','100000','bad')\n",
    "\n",
    "print(emp1.name)\n",
    "print(emp1.age)\n",
    "print(emp1.salary)\n",
    "\n",
    "#instance method\n",
    "print(emp1.performance('good'))\n",
    "\n",
    "#class method\n",
    "print(emp1.group_status())\n",
    "\n",
    "#static method\n",
    "print(emp1.indv_raise(999))\n",
    "\n"
   ]
  },
  {
   "cell_type": "code",
   "execution_count": null,
   "metadata": {},
   "outputs": [],
   "source": []
  },
  {
   "cell_type": "code",
   "execution_count": null,
   "metadata": {},
   "outputs": [],
   "source": []
  }
 ],
 "metadata": {
  "kernelspec": {
   "display_name": "Python 3",
   "language": "python",
   "name": "python3"
  },
  "language_info": {
   "codemirror_mode": {
    "name": "ipython",
    "version": 3
   },
   "file_extension": ".py",
   "mimetype": "text/x-python",
   "name": "python",
   "nbconvert_exporter": "python",
   "pygments_lexer": "ipython3",
   "version": "3.7.3"
  }
 },
 "nbformat": 4,
 "nbformat_minor": 2
}
