{
 "cells": [
  {
   "cell_type": "code",
   "execution_count": 13,
   "metadata": {},
   "outputs": [
    {
     "name": "stdout",
     "output_type": "stream",
     "text": [
      "The product array is:\n",
      "[0, 0, 0]\n",
      "[0, 0, 0]\n",
      "[1, 4, 0]\n",
      "[1, 4, 8]\n",
      "[0, 3, 1]\n",
      "[6, 3, 1]\n",
      "[6, 0, 0]\n",
      "[6, 12, 0]\n",
      "[6, 12, 8]\n"
     ]
    },
    {
     "data": {
      "text/plain": [
       "[6, 12, 8]"
      ]
     },
     "execution_count": 13,
     "metadata": {},
     "output_type": "execute_result"
    }
   ],
   "source": [
    "def productArray(numbers):  \n",
    "    array_len=len(numbers)\n",
    "    if(n == 1): \n",
    "        print(0) \n",
    "        return\n",
    "          \n",
    "    left = [0]*array_len \n",
    "    print(left)\n",
    "    right = [0]*array_len  \n",
    "    print(right)\n",
    "    prod = [0]*array_len \n",
    "  \n",
    "    left[0] = 1\n",
    "    right[array_len - 1] = 1\n",
    "  \n",
    "    for i in range(1, array_len):  \n",
    "        left[i] = numbers[i - 1] * left[i - 1]  \n",
    "        print(left)\n",
    "        \n",
    "    for j in range(array_len-2, -1, -1):  \n",
    "        right[j] = numbers[j + 1] * right[j + 1]  \n",
    "        print(right)\n",
    "        \n",
    "    for i in range(array_len):  \n",
    "        prod[i] = left[i] * right[i]  \n",
    "        print(prod)\n",
    "        \n",
    "    #for i in range(n):  \n",
    "    #    print(prod[i], end =' ')  \n",
    "    return (prod)\n",
    "  \n",
    "# Driver code  \n",
    "arr = [4,2,3]  \n",
    "print(\"The product array is:\")  \n",
    "productArray(arr)  "
   ]
  },
  {
   "cell_type": "code",
   "execution_count": 21,
   "metadata": {},
   "outputs": [
    {
     "name": "stdout",
     "output_type": "stream",
     "text": [
      "The product array is:\n",
      "[0, 0, 0]\n",
      "[0, 0, 0]\n",
      "[1, 4, 0]\n",
      "[1, 4, 8]\n",
      "[0, 3, 1]\n",
      "[6, 3, 1]\n",
      "[6, 0, 0]\n",
      "[6, 12, 0]\n",
      "[6, 12, 8]\n"
     ]
    },
    {
     "data": {
      "text/plain": [
       "[6, 12, 8]"
      ]
     },
     "execution_count": 21,
     "metadata": {},
     "output_type": "execute_result"
    }
   ],
   "source": [
    "def productArray(numbers):  \n",
    "    product=[]\n",
    "    array_len=len(numbers)\n",
    "    #if(array_len == 1): \n",
    "    #    print(0) \n",
    "    #    return\n",
    "          \n",
    "    from_left = [0]*array_len \n",
    "    print(from_left)\n",
    "    from_right = [0]*array_len  \n",
    "    print(from_right)\n",
    "    product = [0]*array_len \n",
    "  \n",
    "    from_left[0] = 1\n",
    "    from_right[array_len - 1] = 1\n",
    "  \n",
    "    for x in range(1, array_len):  \n",
    "        from_left[x] = numbers[x - 1] * from_left[x - 1]  \n",
    "        print(from_left)\n",
    "        \n",
    "    for y in range(array_len-2, -1, -1):  \n",
    "        from_right[y] = numbers[y + 1] * from_right[y + 1]  \n",
    "        print(from_right)\n",
    "        \n",
    "    for z in range(array_len):  \n",
    "        product[z] = from_left[z] * from_right[z]  \n",
    "        print(product)\n",
    "        \n",
    "    #for i in range(n):  \n",
    "    #    print(prod[i], end =' ')  \n",
    "    return product\n",
    "arr = [4,2,3]  \n",
    "print(\"The product array is:\")  \n",
    "productArray(arr)  "
   ]
  },
  {
   "cell_type": "code",
   "execution_count": null,
   "metadata": {},
   "outputs": [],
   "source": []
  }
 ],
 "metadata": {
  "kernelspec": {
   "display_name": "Python 3",
   "language": "python",
   "name": "python3"
  },
  "language_info": {
   "codemirror_mode": {
    "name": "ipython",
    "version": 3
   },
   "file_extension": ".py",
   "mimetype": "text/x-python",
   "name": "python",
   "nbconvert_exporter": "python",
   "pygments_lexer": "ipython3",
   "version": "3.7.3"
  }
 },
 "nbformat": 4,
 "nbformat_minor": 2
}
