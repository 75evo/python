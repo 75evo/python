{
 "cells": [
  {
   "cell_type": "code",
   "execution_count": 19,
   "metadata": {},
   "outputs": [
    {
     "name": "stdout",
     "output_type": "stream",
     "text": [
      "ali.zambri@lulu.com\n",
      "ali zambri\n",
      "ali zambri\n",
      "ali zambri\n",
      "ali zambri\n",
      "ali zambri\n"
     ]
    }
   ],
   "source": [
    "class Employee:\n",
    "\n",
    "    def __init__(self,first,last,pay):\n",
    "        self.first=first\n",
    "        self.last = last\n",
    "        self.pay = pay\n",
    "        self.email = first + \".\" + last + '@lulu.com'\n",
    "    \n",
    "    #these are methods\n",
    "    def print_name(self):\n",
    "        print('{} {}'.format(self.first,self.last))\n",
    "        \n",
    "    def return_name(self):\n",
    "        return('{} {}'.format(self.first,self.last))\n",
    "        \n",
    "emp_1 = Employee('ali','zambri',6000)\n",
    "emp_2 = Employee('kitty','zambri',2000)\n",
    "\n",
    "#emp_1.first='Ali'\n",
    "#emp_2.first='Kitty'\n",
    "\n",
    "#print(emp_1.first)\n",
    "#print(emp_2.first)\n",
    "\n",
    "print(emp_1.email)\n",
    "print('{} {}'.format(emp_1.first,emp_1.last))\n",
    "#this is an instance\n",
    "emp_1.print_name()\n",
    "print(emp_1.return_name())\n",
    "\n",
    "#calling method from the class directly\n",
    "Employee.print_name(emp_1)\n",
    "print(Employee.return_name(emp_1))"
   ]
  },
  {
   "cell_type": "code",
   "execution_count": null,
   "metadata": {},
   "outputs": [],
   "source": []
  },
  {
   "cell_type": "code",
   "execution_count": null,
   "metadata": {},
   "outputs": [],
   "source": []
  },
  {
   "cell_type": "code",
   "execution_count": null,
   "metadata": {},
   "outputs": [],
   "source": []
  }
 ],
 "metadata": {
  "kernelspec": {
   "display_name": "Python 3",
   "language": "python",
   "name": "python3"
  },
  "language_info": {
   "codemirror_mode": {
    "name": "ipython",
    "version": 3
   },
   "file_extension": ".py",
   "mimetype": "text/x-python",
   "name": "python",
   "nbconvert_exporter": "python",
   "pygments_lexer": "ipython3",
   "version": "3.7.3"
  }
 },
 "nbformat": 4,
 "nbformat_minor": 4
}
