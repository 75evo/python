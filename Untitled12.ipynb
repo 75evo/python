{
 "cells": [
  {
   "cell_type": "code",
   "execution_count": null,
   "metadata": {},
   "outputs": [],
   "source": [
    "def rotation (list1,list2):\n",
    "    if len(list1 != len(list2):\n",
    "           return False\n",
    "    \n",
    "    key = list1[0]\n",
    "    key_index = 0\n",
    "           \n",
    "    for i in range(len(list2)):\n",
    "           if list2[i] = key:\n",
    "               key_index = i\n",
    "    break\n",
    "    \n",
    "    if key_index == 0:\n",
    "           return False\n",
    "    \n",
    "    \n",
    "    for x in range(len(list1)):\n",
    "           \n",
    "           "
   ]
  }
 ],
 "metadata": {
  "kernelspec": {
   "display_name": "Python 3",
   "language": "python",
   "name": "python3"
  },
  "language_info": {
   "codemirror_mode": {
    "name": "ipython",
    "version": 3
   },
   "file_extension": ".py",
   "mimetype": "text/x-python",
   "name": "python",
   "nbconvert_exporter": "python",
   "pygments_lexer": "ipython3",
   "version": "3.7.3"
  }
 },
 "nbformat": 4,
 "nbformat_minor": 2
}
