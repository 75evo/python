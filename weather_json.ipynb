{
 "cells": [
  {
   "cell_type": "code",
   "execution_count": 39,
   "metadata": {},
   "outputs": [
    {
     "name": "stdout",
     "output_type": "stream",
     "text": [
      "{'coord': {'lon': -122.02, 'lat': 37.38}, 'weather': [{'id': 800, 'main': 'Clear', 'description': 'clear sky', 'icon': '01n'}], 'base': 'stations', 'main': {'temp': 291.83, 'pressure': 1016, 'humidity': 82, 'temp_min': 289.82, 'temp_max': 294.26}, 'visibility': 16093, 'wind': {'speed': 5.1, 'deg': 350}, 'clouds': {'all': 1}, 'dt': 1564805988, 'sys': {'type': 1, 'id': 5122, 'message': 0.0124, 'country': 'US', 'sunrise': 1564751588, 'sunset': 1564802127}, 'timezone': -25200, 'id': 0, 'name': 'Sunnyvale', 'cod': 200}\n",
      "291.83\n"
     ]
    }
   ],
   "source": [
    "import requests\n",
    "import json\n",
    "\n",
    "#api_address = 'http://api.openweathermap.org/data/2.5/weather?appid=4864b08f0eff7c8e5f4c17b1423dbbbc&zip='\n",
    "api_address = 'http://api.openweathermap.org/data/2.5/weather?appid='\n",
    "key = '4864b08f0eff7c8e5f4c17b1423dbbbc'\n",
    "extra = '&zip='\n",
    "city = '94086'\n",
    "url = api_address + key + extra + city\n",
    "response=requests.get(url)\n",
    "#json_data = requests.get(url).json()\n",
    "x=response.json()\n",
    "print(x)\n",
    "y = x['main']['temp']\n",
    "#temp = y['temp']\n",
    "print( str(y))\n",
    "\n",
    "#data2=json.dump(requests.get(url).json())\n",
    "\n",
    "#formatted_data = (json_data['weather'][0]['description'])\n",
    "#print(json_data(['main']['temp'])))\n"
   ]
  },
  {
   "cell_type": "code",
   "execution_count": null,
   "metadata": {},
   "outputs": [],
   "source": []
  },
  {
   "cell_type": "code",
   "execution_count": null,
   "metadata": {},
   "outputs": [],
   "source": []
  },
  {
   "cell_type": "code",
   "execution_count": null,
   "metadata": {},
   "outputs": [],
   "source": []
  },
  {
   "cell_type": "code",
   "execution_count": null,
   "metadata": {},
   "outputs": [],
   "source": []
  },
  {
   "cell_type": "code",
   "execution_count": null,
   "metadata": {},
   "outputs": [],
   "source": []
  }
 ],
 "metadata": {
  "kernelspec": {
   "display_name": "Python 3",
   "language": "python",
   "name": "python3"
  },
  "language_info": {
   "codemirror_mode": {
    "name": "ipython",
    "version": 3
   },
   "file_extension": ".py",
   "mimetype": "text/x-python",
   "name": "python",
   "nbconvert_exporter": "python",
   "pygments_lexer": "ipython3",
   "version": "3.7.3"
  }
 },
 "nbformat": 4,
 "nbformat_minor": 4
}
