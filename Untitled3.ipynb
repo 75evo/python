{
 "cells": [
  {
   "cell_type": "code",
   "execution_count": 19,
   "metadata": {},
   "outputs": [
    {
     "name": "stdout",
     "output_type": "stream",
     "text": [
      "['c', 'b', 'a']\n",
      "c\n",
      "b\n",
      "a\n",
      "['c', 'b', 'a']\n",
      "\n",
      "a\n"
     ]
    }
   ],
   "source": [
    "import copy\n",
    "\n",
    "x = ['a','b','c']\n",
    "\n",
    "y=[]\n",
    "\n",
    "y=x[::-1]\n",
    "\n",
    "print (y)\n",
    "\n",
    "z=[]\n",
    "\n",
    "for i in range(len(x)-1,-1,-1):\n",
    "    print (x[i])\n",
    "    z.append(x[i])\n",
    "\n",
    "print(z)\n",
    "\n",
    "\n",
    "\n",
    "print ( )\n",
    "\n",
    "a='a'\n",
    "print(a.lower())"
   ]
  },
  {
   "cell_type": "code",
   "execution_count": null,
   "metadata": {},
   "outputs": [],
   "source": []
  },
  {
   "cell_type": "code",
   "execution_count": null,
   "metadata": {},
   "outputs": [],
   "source": []
  }
 ],
 "metadata": {
  "kernelspec": {
   "display_name": "Python 3",
   "language": "python",
   "name": "python3"
  },
  "language_info": {
   "codemirror_mode": {
    "name": "ipython",
    "version": 3
   },
   "file_extension": ".py",
   "mimetype": "text/x-python",
   "name": "python",
   "nbconvert_exporter": "python",
   "pygments_lexer": "ipython3",
   "version": "3.7.3"
  }
 },
 "nbformat": 4,
 "nbformat_minor": 2
}
