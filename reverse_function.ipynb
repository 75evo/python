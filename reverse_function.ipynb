{
 "cells": [
  {
   "cell_type": "code",
   "execution_count": 33,
   "metadata": {},
   "outputs": [
    {
     "name": "stdout",
     "output_type": "stream",
     "text": [
      "This is the best\n",
      "tseb eht si sihT\n"
     ]
    }
   ],
   "source": [
    "def reverse(s):\n",
    "\n",
    "    length=len(s)\n",
    "    i=0\n",
    "    spaces = [' ']\n",
    "    words = []\n",
    "    print(s)\n",
    "    while i < length:\n",
    "        if s[i] not in spaces:\n",
    "            #print(\"not a space, start at i =\",i)\n",
    "            word_start=i\n",
    "            \n",
    "            while i < length and s[i] not in spaces:\n",
    "                #print(i,s[i])\n",
    "                i+=1\n",
    "            \n",
    "            words.append(s[word_start:i])\n",
    "        i+=1\n",
    "        \n",
    "    return \"\".join(reversed(s))\n",
    "\n",
    "print(reverse(\"This is the best\"))\n"
   ]
  },
  {
   "cell_type": "raw",
   "metadata": {},
   "source": [
    "def rev(s):\n",
    "    return s.split()[::-1]\n",
    "    \n",
    "print(rev(\"Hellow this is Edmund\"))"
   ]
  },
  {
   "cell_type": "code",
   "execution_count": null,
   "metadata": {},
   "outputs": [],
   "source": []
  },
  {
   "cell_type": "code",
   "execution_count": null,
   "metadata": {},
   "outputs": [],
   "source": []
  }
 ],
 "metadata": {
  "kernelspec": {
   "display_name": "Python 3",
   "language": "python",
   "name": "python3"
  },
  "language_info": {
   "codemirror_mode": {
    "name": "ipython",
    "version": 3
   },
   "file_extension": ".py",
   "mimetype": "text/x-python",
   "name": "python",
   "nbconvert_exporter": "python",
   "pygments_lexer": "ipython3",
   "version": "3.7.3"
  }
 },
 "nbformat": 4,
 "nbformat_minor": 2
}
