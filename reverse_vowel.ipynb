{
 "cells": [
  {
   "cell_type": "code",
   "execution_count": 7,
   "metadata": {},
   "outputs": [
    {
     "name": "stdout",
     "output_type": "stream",
     "text": [
      "aa parameter not supported. Single words only, no blank spaces or phrases\n",
      "False\n",
      "hkkkkjjjji;all\n",
      "uuueeeaaaa\n",
      "excetiment\n",
      "Felsa\n"
     ]
    }
   ],
   "source": [
    "def reverse_vowels(word):\n",
    "    \n",
    "    vowels_list=[]\n",
    "    consonant_list=[]\n",
    "    vowels=[\"a\",\"e\",\"i\",\"o\",\"u\"]\n",
    "    index=[]\n",
    "    temp_word=[]\n",
    "    index=0\n",
    "    \n",
    "    if len(word)==0: #exit if 0 length word\n",
    "        return False\n",
    "    \n",
    "    for i in word:\n",
    "        if \" \" == i:\n",
    "            print (word + \" not supported. Single words only, no blank spaces or phrases\")\n",
    "            return False\n",
    "        if i in vowels:\n",
    "            vowels_list.append(i)\n",
    "            temp_word.append(\"\")\n",
    "        else:\n",
    "            consonant_list.append(i) #create consonant list, not really necessary\n",
    "            temp_word.append(i) \n",
    "\n",
    "    vowels_list.reverse() #reverse vowel list\n",
    "    \n",
    "    for j in temp_word:\n",
    "        if j=='':           \n",
    "            temp_word.insert(index,vowels_list[0]) #create temp word, insert reverse vowel list 0th element\n",
    "            temp_word.pop(index+1) #pop the blank space\n",
    "            vowels_list.pop(0) #pop the inserted vowel from the vowel list \n",
    "        index+=1 \n",
    "\n",
    "    new_word=\"\".join(temp_word) #create new word\n",
    "    return new_word\n",
    "\n",
    "print(reverse_vowels(\"aa parameter\"))\n",
    "print(reverse_vowels(\"hkkkkjjjja;ill\"))\n",
    "print(reverse_vowels(\"aaaaeeeuuu\"))\n",
    "print(reverse_vowels(\"excitement\"))\n",
    "print(reverse_vowels(\"False\"))\n",
    "    \n",
    "    "
   ]
  },
  {
   "cell_type": "code",
   "execution_count": null,
   "metadata": {},
   "outputs": [],
   "source": []
  },
  {
   "cell_type": "code",
   "execution_count": null,
   "metadata": {},
   "outputs": [],
   "source": []
  }
 ],
 "metadata": {
  "kernelspec": {
   "display_name": "Python 3",
   "language": "python",
   "name": "python3"
  },
  "language_info": {
   "codemirror_mode": {
    "name": "ipython",
    "version": 3
   },
   "file_extension": ".py",
   "mimetype": "text/x-python",
   "name": "python",
   "nbconvert_exporter": "python",
   "pygments_lexer": "ipython3",
   "version": "3.7.3"
  }
 },
 "nbformat": 4,
 "nbformat_minor": 2
}
