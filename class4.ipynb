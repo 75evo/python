{
 "cells": [
  {
   "cell_type": "code",
   "execution_count": 22,
   "metadata": {},
   "outputs": [
    {
     "name": "stdout",
     "output_type": "stream",
     "text": [
      "apple\n",
      "small\n",
      "red\n",
      "pear\n",
      "medium\n",
      "green\n",
      "Fruit texture is rough and tastes foo\n",
      "fruit weight is 3000 lbs\n"
     ]
    }
   ],
   "source": [
    "class Fruits:\n",
    "    \n",
    "    #class attributes\n",
    "    \n",
    "    taste='sweet'\n",
    "    texture='rough'\n",
    "    \n",
    "    #constructor/init\n",
    "    def __init__ (self,name,size,color):\n",
    "        self.name=name\n",
    "        self.size=size\n",
    "        self.color=color\n",
    "       \n",
    "    #instance method\n",
    "    def fruit_smell (self,name,smell):\n",
    "        return f'{self.name} fruit has a good {self.smell}'\n",
    "    \n",
    "    @classmethod\n",
    "    def fruit_texture(cls,taste):\n",
    "        return f'Fruit texture is {cls.texture} and tastes {taste}'\n",
    "    \n",
    "    @staticmethod\n",
    "    def fruit_weight(weight):\n",
    "        return f'fruit weight is {weight} lbs'\n",
    "\n",
    "    \n",
    "class seed(Fruits):\n",
    "    pass\n",
    "    \n",
    "    #use instance method\n",
    "fruit1=Fruits('apple','small','red')\n",
    "print(fruit1.name)\n",
    "print(fruit1.size)\n",
    "print(fruit1.color)\n",
    "\n",
    "fruit2=Fruits('pear','medium','green')\n",
    "print(fruit2.name)\n",
    "print(fruit2.size)\n",
    "print(fruit2.color)\n",
    "\n",
    "#using class tribute and passing one parameter\n",
    "print(fruit2.fruit_texture('foo'))\n",
    "\n",
    "#static method\n",
    "print(fruit2.fruit_weight(3000))"
   ]
  },
  {
   "cell_type": "code",
   "execution_count": null,
   "metadata": {},
   "outputs": [],
   "source": []
  },
  {
   "cell_type": "code",
   "execution_count": null,
   "metadata": {},
   "outputs": [],
   "source": []
  },
  {
   "cell_type": "code",
   "execution_count": null,
   "metadata": {},
   "outputs": [],
   "source": []
  }
 ],
 "metadata": {
  "kernelspec": {
   "display_name": "Python 3",
   "language": "python",
   "name": "python3"
  },
  "language_info": {
   "codemirror_mode": {
    "name": "ipython",
    "version": 3
   },
   "file_extension": ".py",
   "mimetype": "text/x-python",
   "name": "python",
   "nbconvert_exporter": "python",
   "pygments_lexer": "ipython3",
   "version": "3.7.3"
  }
 },
 "nbformat": 4,
 "nbformat_minor": 2
}
