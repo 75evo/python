{
 "cells": [
  {
   "cell_type": "code",
   "execution_count": 4,
   "metadata": {},
   "outputs": [
    {
     "ename": "ModuleNotFoundError",
     "evalue": "No module named 'flask_restful'",
     "output_type": "error",
     "traceback": [
      "\u001b[0;31m---------------------------------------------------------------------------\u001b[0m",
      "\u001b[0;31mModuleNotFoundError\u001b[0m                       Traceback (most recent call last)",
      "\u001b[0;32m<ipython-input-4-38600470c3d1>\u001b[0m in \u001b[0;36m<module>\u001b[0;34m\u001b[0m\n\u001b[1;32m      1\u001b[0m \u001b[0;32mfrom\u001b[0m \u001b[0mflask\u001b[0m \u001b[0;32mimport\u001b[0m \u001b[0mFlask\u001b[0m\u001b[0;34m\u001b[0m\u001b[0;34m\u001b[0m\u001b[0m\n\u001b[0;32m----> 2\u001b[0;31m \u001b[0;32mfrom\u001b[0m \u001b[0mflask_restful\u001b[0m \u001b[0;32mimport\u001b[0m \u001b[0mApi\u001b[0m\u001b[0;34m,\u001b[0m \u001b[0mResource\u001b[0m\u001b[0;34m,\u001b[0m \u001b[0mreqparse\u001b[0m\u001b[0;34m\u001b[0m\u001b[0;34m\u001b[0m\u001b[0m\n\u001b[0m\u001b[1;32m      3\u001b[0m \u001b[0;34m\u001b[0m\u001b[0m\n\u001b[1;32m      4\u001b[0m \u001b[0mapp\u001b[0m \u001b[0;34m=\u001b[0m \u001b[0mFlask\u001b[0m \u001b[0;34m(\u001b[0m\u001b[0m__name__\u001b[0m\u001b[0;34m)\u001b[0m\u001b[0;34m\u001b[0m\u001b[0;34m\u001b[0m\u001b[0m\n\u001b[1;32m      5\u001b[0m \u001b[0mapi\u001b[0m \u001b[0;34m=\u001b[0m \u001b[0mApi\u001b[0m\u001b[0;34m(\u001b[0m\u001b[0map\u001b[0m\u001b[0;34m)\u001b[0m\u001b[0;34m\u001b[0m\u001b[0;34m\u001b[0m\u001b[0m\n",
      "\u001b[0;31mModuleNotFoundError\u001b[0m: No module named 'flask_restful'"
     ]
    }
   ],
   "source": [
    "from flask import Flask\n",
    "from flask_restful import Api, Resource, reqparse\n",
    "\n",
    "app = Flask (__name__)\n",
    "api = Api(app)\n",
    "\n",
    "users = [\n",
    "    {\n",
    "        \"name\":\"Nicholas\",\n",
    "        \"age\":42,\n",
    "        \"job\":\"engineer\"\n",
    "    },\n",
    "    {\n",
    "        \"name\":\"Rob\",\n",
    "        \"age\":55,\n",
    "        \"job\":\"chef\"\n",
    "    },\n",
    "        {\n",
    "        \"name\":\"James\",\n",
    "        \"age\":23,\n",
    "        \"job\":\"Police\"\n",
    "    }\n",
    "]\n",
    "\n",
    "class User(Resource):\n",
    "    \n",
    "    def get(self,name):\n",
    "        for user in users:\n",
    "            if(name == user[\"name\"]):\n",
    "                return user, 200\n",
    "        return \"User not found\",404\n",
    "    \n",
    "    def post(self,name):\n",
    "        parser = reqparse.RequestParser()\n",
    "        parser.add_argument(\"age\")\n",
    "        parser.add_argument(\"occupation\")\n",
    "        args = parser.parse_args()\n",
    "        for user in users:\n",
    "            if(name == user[\"name\"]):\n",
    "                return \"User with name {} already exists\".format(name),400\n",
    "        \n",
    "        user = {\n",
    "            \"name\" : name,\n",
    "            \"age\" : args[\"age\"],\n",
    "            \"occupation\" : args[\"occupation\"]\n",
    "        }\n",
    "        users.append(user)\n",
    "        return user,201\n",
    "        \n",
    "    def put(self,name):\n",
    "        parser = reqparse.RequestParser()\n",
    "        parser.add_argument(\"age\")\n",
    "        parser.add_argument(\"occupation\")\n",
    "        args = parser.parse_args()\n",
    "        \n",
    "        for user in users:\n",
    "            if(name == user[\"name\"]):\n",
    "                user[\"age\"] = args[\"age\"]\n",
    "                user[\"occupation\"] = args[\"occupation\"]\n",
    "                return user, 200\n",
    "        user = {\n",
    "            \"name\" : name,\n",
    "            \"age\" : args[\"age\"],\n",
    "            \"occupation\" : args[\"occupation\"]\n",
    "        }\n",
    "        users.append(user)\n",
    "        return user,201 \n",
    "\n",
    "\n",
    "    def delete(self,name):\n",
    "        global users\n",
    "        users = [user for user in users if user[\"name\"] !=name]\n",
    "        return \"{} is deleted\".format(name),200\n",
    "        \n",
    "\n"
   ]
  },
  {
   "cell_type": "code",
   "execution_count": null,
   "metadata": {},
   "outputs": [],
   "source": []
  }
 ],
 "metadata": {
  "kernelspec": {
   "display_name": "Python 3",
   "language": "python",
   "name": "python3"
  },
  "language_info": {
   "codemirror_mode": {
    "name": "ipython",
    "version": 3
   },
   "file_extension": ".py",
   "mimetype": "text/x-python",
   "name": "python",
   "nbconvert_exporter": "python",
   "pygments_lexer": "ipython3",
   "version": "3.7.3"
  }
 },
 "nbformat": 4,
 "nbformat_minor": 4
}
