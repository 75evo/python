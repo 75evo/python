{
 "cells": [
  {
   "cell_type": "code",
   "execution_count": 15,
   "metadata": {},
   "outputs": [
    {
     "name": "stdout",
     "output_type": "stream",
     "text": [
      "{'people': [{'name': 'John Smith', 'phone': '999', 'emails': None, 'license': False}, {'name': 'Joame Smith', 'phone': '333', 'emails': None, 'license': True}]}\n",
      "<class 'list'>\n",
      "<class 'dict'>\n",
      "John Smith\n",
      "Joame Smith\n",
      "{'name': 'John Smith', 'emails': None, 'license': False}\n",
      "{'name': 'Joame Smith', 'emails': None, 'license': True}\n",
      "{\n",
      "          \"people\": [\n",
      "                    {\n",
      "                              \"emails\": null,\n",
      "                              \"license\": false,\n",
      "                              \"name\": \"John Smith\"\n",
      "                    },\n",
      "                    {\n",
      "                              \"emails\": null,\n",
      "                              \"license\": true,\n",
      "                              \"name\": \"Joame Smith\"\n",
      "                    }\n",
      "          ]\n",
      "}\n"
     ]
    }
   ],
   "source": [
    "import json\n",
    "\n",
    "people_string='''\n",
    "{\n",
    " \"people\": [\n",
    "  {\n",
    "   \"name\":\"John Smith\",\n",
    "   \"phone\":\"999\",\n",
    "   \"emails\":null,\n",
    "   \"license\":false\n",
    "  },\n",
    "  {\n",
    "   \"name\":\"Joame Smith\",\n",
    "   \"phone\":\"333\",\n",
    "   \"emails\":null,\n",
    "   \"license\":true\n",
    "  }\n",
    " ]\n",
    "}\n",
    "'''\n",
    "\n",
    "data=json.loads(people_string)\n",
    "print(data)\n",
    "print(type(data['people']))\n",
    "print(type(data))\n",
    "\n",
    "for person in data['people']:\n",
    "    print(person['name'])\n",
    "\n",
    "for person in data['people']:\n",
    "    del person['phone']\n",
    "    \n",
    "for person in data['people']:\n",
    "    print(person)\n",
    "\n",
    "new_data=json.dumps(data,indent=10,sort_keys=True)\n",
    "print(new_data)"
   ]
  },
  {
   "cell_type": "code",
   "execution_count": null,
   "metadata": {},
   "outputs": [],
   "source": []
  }
 ],
 "metadata": {
  "kernelspec": {
   "display_name": "Python 3",
   "language": "python",
   "name": "python3"
  },
  "language_info": {
   "codemirror_mode": {
    "name": "ipython",
    "version": 3
   },
   "file_extension": ".py",
   "mimetype": "text/x-python",
   "name": "python",
   "nbconvert_exporter": "python",
   "pygments_lexer": "ipython3",
   "version": "3.7.3"
  }
 },
 "nbformat": 4,
 "nbformat_minor": 4
}
