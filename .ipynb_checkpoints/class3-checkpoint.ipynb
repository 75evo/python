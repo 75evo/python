{
 "cells": [
  {
   "cell_type": "code",
   "execution_count": 18,
   "metadata": {},
   "outputs": [
    {
     "name": "stdout",
     "output_type": "stream",
     "text": [
      "Car is:4\n",
      "car has engine size of 1750 cc\n",
      "Car is BMW , wheels is 4\n",
      "its a car with 2 doors and 4800 cc engine\n"
     ]
    }
   ],
   "source": [
    "class Car :\n",
    "    \n",
    "    #class var goes here\n",
    "    \n",
    "    def __init__ (self,name,wheels,doors,enginecc):\n",
    "        #instance var\n",
    "        \n",
    "        #instance attribute\n",
    "        #self.numWheels=4\n",
    "        #self.numDoors=4\n",
    "        #self.engineSize=3000\n",
    "        self.carName=name\n",
    "        self.numWheels=wheels\n",
    "        self.numDoors=doors\n",
    "        self.engineSize=enginecc\n",
    "    \n",
    "    #instance method\n",
    "    def cc_size (self,cc):\n",
    "        return f'car has engine size of {cc} cc'\n",
    "    \n",
    "    \n",
    "    #instance\n",
    "    \n",
    "    \n",
    "carX=Car('Honda',4,4,2000)\n",
    "#print(f'Car is:{honda.numWheels}')\n",
    "#print(honda.cc_size(2000))\n",
    "#print(f'Car is:{honda.numWheels}')\n",
    "print(f'Car is:{honda.numWheels}')\n",
    "print(carX.cc_size(1750)) \n",
    "\n",
    "carY=Car('BMW',4,2,4800)\n",
    "print (f'Car is {carY.carName} , wheels is {carY.numWheels}')\n",
    "print (f'its a car with {carY.numDoors} doors and {carY.engineSize} cc engine')\n"
   ]
  },
  {
   "cell_type": "code",
   "execution_count": null,
   "metadata": {},
   "outputs": [],
   "source": []
  }
 ],
 "metadata": {
  "kernelspec": {
   "display_name": "Python 3",
   "language": "python",
   "name": "python3"
  },
  "language_info": {
   "codemirror_mode": {
    "name": "ipython",
    "version": 3
   },
   "file_extension": ".py",
   "mimetype": "text/x-python",
   "name": "python",
   "nbconvert_exporter": "python",
   "pygments_lexer": "ipython3",
   "version": "3.7.3"
  }
 },
 "nbformat": 4,
 "nbformat_minor": 4
}
