{
 "cells": [
  {
   "cell_type": "code",
   "execution_count": 21,
   "metadata": {},
   "outputs": [
    {
     "name": "stdout",
     "output_type": "stream",
     "text": [
      "Fruit name is Macintosh\n",
      "Size is huge\n",
      "Color is blue\n",
      "General weight of Macintosh is 2 lbs\n",
      "General weight of Macintosh is 2500 lbs\n"
     ]
    }
   ],
   "source": [
    "class Fruit:\n",
    "    \n",
    "    #class attribute or variable\n",
    "    \n",
    "    #original constructor init function\n",
    "    #def __init__(self):\n",
    "    #    self.name = \"apple\"\n",
    "    #    self.size = \"medium\"\n",
    "    #    self.color = \"red\"\n",
    " \n",
    "    #original constructor init function\n",
    "    def __init__(self,name1,size1,color1):\n",
    "        self.name = name1\n",
    "        self.size = size1\n",
    "        self.color = color1\n",
    "\n",
    "\n",
    "    #instance method with no values passed\n",
    "    def weight_self(self):\n",
    "        return f'General weight of {self.name} is 2 lbs'\n",
    "        \n",
    "    #instance method with no values passed\n",
    "    def weight_value(self,fruit_weight):\n",
    "        return f'General weight of {self.name} is {fruit_weight} lbs'\n",
    "        \n",
    "    @classmethod\n",
    "    def weight_clsm (cls):\n",
    "        return f\n",
    "        \n",
    "        \n",
    "#using class via init with no passed values\n",
    "#apple=Fruit()\n",
    "#print (f'Fruit type is {apple.name}')\n",
    "#print (f'Size type is {apple.size}') \n",
    "\n",
    "#using class via init with  passed values\n",
    "apple=Fruit(\"Macintosh\",\"huge\",\"blue\")\n",
    "print (f'Fruit name is {apple.name}')\n",
    "print (f'Size is {apple.size}')\n",
    "print (f'Color is {apple.color}')\n",
    "\n",
    "print (apple.weight_self())\n",
    "print (apple.weight_value(2500))"
   ]
  },
  {
   "cell_type": "code",
   "execution_count": null,
   "metadata": {},
   "outputs": [],
   "source": []
  }
 ],
 "metadata": {
  "kernelspec": {
   "display_name": "Python 3",
   "language": "python",
   "name": "python3"
  },
  "language_info": {
   "codemirror_mode": {
    "name": "ipython",
    "version": 3
   },
   "file_extension": ".py",
   "mimetype": "text/x-python",
   "name": "python",
   "nbconvert_exporter": "python",
   "pygments_lexer": "ipython3",
   "version": "3.7.3"
  }
 },
 "nbformat": 4,
 "nbformat_minor": 4
}
