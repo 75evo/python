{
 "cells": [
  {
   "cell_type": "code",
   "execution_count": 11,
   "metadata": {},
   "outputs": [
    {
     "name": "stdout",
     "output_type": "stream",
     "text": [
      "[4, 3, 2, 1]\n",
      "[4, 3, 2, 1]\n",
      "[1, 2, 3, 4]\n",
      "3\n",
      "2\n",
      "1\n",
      "0\n",
      "{'name': 'ali', 'height': 50}\n",
      "found name ali\n"
     ]
    }
   ],
   "source": [
    "x=[1,2,3,4]\n",
    "\n",
    "x.reverse()\n",
    "\n",
    "print(x)\n",
    "\n",
    "y=list(x)\n",
    "print(y)\n",
    "\n",
    "z=y[::-1]\n",
    "print(z)\n",
    "\n",
    "for i in range(len(x)-1,-1,-1):\n",
    "    print(i)\n",
    "    \n",
    "dict1={'name':'ali','height':50}\n",
    "\n",
    "print(dict1)\n",
    "\n",
    "for k,v in dict1.items():\n",
    "    #print(k,v)\n",
    "    if ('ali' in str(v)):\n",
    "        print ('found name ' + str(v))"
   ]
  },
  {
   "cell_type": "code",
   "execution_count": null,
   "metadata": {},
   "outputs": [],
   "source": []
  }
 ],
 "metadata": {
  "kernelspec": {
   "display_name": "Python 3",
   "language": "python",
   "name": "python3"
  },
  "language_info": {
   "codemirror_mode": {
    "name": "ipython",
    "version": 3
   },
   "file_extension": ".py",
   "mimetype": "text/x-python",
   "name": "python",
   "nbconvert_exporter": "python",
   "pygments_lexer": "ipython3",
   "version": "3.7.3"
  }
 },
 "nbformat": 4,
 "nbformat_minor": 2
}
