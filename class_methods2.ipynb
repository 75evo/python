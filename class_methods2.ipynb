{
 "cells": [
  {
   "cell_type": "code",
   "execution_count": 9,
   "metadata": {},
   "outputs": [
    {
     "name": "stdout",
     "output_type": "stream",
     "text": [
      "alfa\n",
      "gtv\n",
      "petrol\n",
      "car top speed is 200mph\n",
      "max weight is 8000\n",
      "max power is 100 bhp\n"
     ]
    }
   ],
   "source": [
    "class Car:\n",
    "    \n",
    "    max_weight=8000\n",
    "    \n",
    "    def __init__ (self,make,model,fuel_type):\n",
    "        self.make=make\n",
    "        self.model=model\n",
    "        self.fuel_type=fuel_type\n",
    "    \n",
    "    #instance method\n",
    "    def speed_method (self,speed):\n",
    "        return f'car top speed is {speed}'\n",
    "    \n",
    "    #class method\n",
    "    @classmethod\n",
    "    def class_max_weight(cls):\n",
    "        return f'max weight is {cls.max_weight}'\n",
    "    \n",
    "    \n",
    "    @staticmethod\n",
    "    def static_power(power):\n",
    "        return f'max power is {power}'\n",
    "    \n",
    "    \n",
    "car1=Car('alfa','gtv','petrol')\n",
    "print(car1.make)   \n",
    "print(car1.model)\n",
    "print(car1.fuel_type)\n",
    "\n",
    "print(car1.speed_method('200mph'))\n",
    "\n",
    "print (car1.class_max_weight())\n",
    "\n",
    "print (car1.static_power('100 bhp'))"
   ]
  },
  {
   "cell_type": "code",
   "execution_count": null,
   "metadata": {},
   "outputs": [],
   "source": []
  },
  {
   "cell_type": "code",
   "execution_count": null,
   "metadata": {},
   "outputs": [],
   "source": []
  },
  {
   "cell_type": "code",
   "execution_count": null,
   "metadata": {},
   "outputs": [],
   "source": []
  }
 ],
 "metadata": {
  "kernelspec": {
   "display_name": "Python 3",
   "language": "python",
   "name": "python3"
  },
  "language_info": {
   "codemirror_mode": {
    "name": "ipython",
    "version": 3
   },
   "file_extension": ".py",
   "mimetype": "text/x-python",
   "name": "python",
   "nbconvert_exporter": "python",
   "pygments_lexer": "ipython3",
   "version": "3.7.3"
  }
 },
 "nbformat": 4,
 "nbformat_minor": 2
}
